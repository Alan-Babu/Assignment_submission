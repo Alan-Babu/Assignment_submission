{
 "cells": [
  {
   "cell_type": "code",
   "execution_count": 1,
   "metadata": {},
   "outputs": [
    {
     "data": {
      "text/plain": [
       "<firebase_admin.App at 0x1ce37d20400>"
      ]
     },
     "execution_count": 1,
     "metadata": {},
     "output_type": "execute_result"
    }
   ],
   "source": [
    "import firebase_admin\n",
    "from firebase_admin import credentials,firestore\n",
    "cred = credentials.Certificate(\"hospital-management-syst-2cfa8-firebase-adminsdk-c68zv-88072e8e2d.json\")\n",
    "firebase_admin.initialize_app(cred)\n"
   ]
  },
  {
   "cell_type": "code",
   "execution_count": 2,
   "metadata": {},
   "outputs": [],
   "source": [
    "store = firestore.client()"
   ]
  },
  {
   "cell_type": "code",
   "execution_count": 3,
   "metadata": {},
   "outputs": [],
   "source": [
    "dit = {}\n",
    "dit[\"PATIENT NAME\"] = \"Abijith.s\",\"Brolin\",\"Shibin Joshy\",\"Sajish.R\",\"Renil.C\"\n",
    "dit[\"AGE\"] = \"21\",\"21\",\"20\",\"20\",\"22\"\n",
    "dit[\"GENDER\"] = \"MALE\",\"MALE\",\"MALE\",\"MALE\",\"MALE\"\n",
    "dit[\"BLOOD GROUP\"] =\"O+ve\",\"B+ve\",\"O+ve\",\"A+ve\"\n",
    "dit[\"DISEASE\"] =\"FEAVER\",\"Cough\",\"headache\",\"vomitting\",\"fracture\"\n",
    "dit[\"DIAGNOSED BY\"]=\"Dr.ABCD\",\"Dr.DEF\",\"Dr.GHI\",\"Dr.JKL\",\"Dr.XYZ\"\n"
   ]
  },
  {
   "cell_type": "code",
   "execution_count": 4,
   "metadata": {},
   "outputs": [
    {
     "data": {
      "text/plain": [
       "{'PATIENT NAME': ('Abijith.s',\n",
       "  'Brolin',\n",
       "  'Shibin Joshy',\n",
       "  'Sajish.R',\n",
       "  'Renil.C'),\n",
       " 'AGE': ('21', '21', '20', '20', '22'),\n",
       " 'GENDER': ('MALE', 'MALE', 'MALE', 'MALE', 'MALE'),\n",
       " 'BLOOD GROUP': ('O+ve', 'B+ve', 'O+ve', 'A+ve'),\n",
       " 'DISEASE': ('FEAVER', 'Cough', 'headache', 'vomitting', 'fracture'),\n",
       " 'DIAGNOSED BY': ('Dr.ABCD', 'Dr.DEF', 'Dr.GHI', 'Dr.JKL', 'Dr.XYZ')}"
      ]
     },
     "execution_count": 4,
     "metadata": {},
     "output_type": "execute_result"
    }
   ],
   "source": [
    "dit"
   ]
  },
  {
   "cell_type": "code",
   "execution_count": 5,
   "metadata": {},
   "outputs": [],
   "source": [
    "dit[\"createAt\"]= firestore.SERVER_TIMESTAMP"
   ]
  },
  {
   "cell_type": "code",
   "execution_count": 6,
   "metadata": {},
   "outputs": [
    {
     "data": {
      "text/plain": [
       "{'PATIENT NAME': ('Abijith.s',\n",
       "  'Brolin',\n",
       "  'Shibin Joshy',\n",
       "  'Sajish.R',\n",
       "  'Renil.C'),\n",
       " 'AGE': ('21', '21', '20', '20', '22'),\n",
       " 'GENDER': ('MALE', 'MALE', 'MALE', 'MALE', 'MALE'),\n",
       " 'BLOOD GROUP': ('O+ve', 'B+ve', 'O+ve', 'A+ve'),\n",
       " 'DISEASE': ('FEAVER', 'Cough', 'headache', 'vomitting', 'fracture'),\n",
       " 'DIAGNOSED BY': ('Dr.ABCD', 'Dr.DEF', 'Dr.GHI', 'Dr.JKL', 'Dr.XYZ'),\n",
       " 'createAt': Sentinel: Value used to set a document field to the server timestamp.}"
      ]
     },
     "execution_count": 6,
     "metadata": {},
     "output_type": "execute_result"
    }
   ],
   "source": [
    "dit"
   ]
  },
  {
   "cell_type": "code",
   "execution_count": 7,
   "metadata": {},
   "outputs": [
    {
     "data": {
      "text/plain": [
       "(DatetimeWithNanoseconds(2021, 3, 26, 16, 4, 11, 454464, tzinfo=datetime.timezone.utc),\n",
       " <google.cloud.firestore_v1.document.DocumentReference at 0x1ce39d3ddc0>)"
      ]
     },
     "execution_count": 7,
     "metadata": {},
     "output_type": "execute_result"
    }
   ],
   "source": [
    "store.collection(\"Records\").add(dit)"
   ]
  },
  {
   "cell_type": "code",
   "execution_count": 9,
   "metadata": {},
   "outputs": [],
   "source": [
    "docs = store.collection(\"Records\").stream()\n"
   ]
  },
  {
   "cell_type": "code",
   "execution_count": 11,
   "metadata": {},
   "outputs": [
    {
     "name": "stdout",
     "output_type": "stream",
     "text": [
      "{'createAt': DatetimeWithNanoseconds(2021, 3, 26, 15, 36, 40, 455000, tzinfo=<UTC>), 'AGE': ['21', '20'], 'DIAGNOSED BY': ['Dr.ABCD', 'Dr.XYZ'], 'GENDER': ['MALE', 'MALE'], 'PATIENT NAME': ['Abijith.s', 'Brolin Rojitto John'], 'BLOOD GROUP': ['O+ve', 'B+ve'], 'DISEASE': ['FEAVER', 'Cough']}\n",
      "{'createAt': DatetimeWithNanoseconds(2021, 3, 26, 15, 55, 7, 52000, tzinfo=<UTC>), 'PATIENT NAME': 'Abijith.s', 'GENDER': 'MALE', 'DISEASE': 'FEAVER', 'BLOOD GROUP': 'O+ve', 'DIAGNOSED BY': 'Dr.ABCD', 'AGE': '21'}\n",
      "{'createAt': DatetimeWithNanoseconds(2021, 3, 26, 15, 56, 31, 519000, tzinfo=<UTC>), 'GENDER': 'MALE', 'PATIENT NAME': 'Abijith.s', 'DIAGNOSED BY': 'Dr.ABCD', 'AGE': '21', 'BLOOD GROUP': 'O+ve', 'DISEASE': 'FEAVER'}\n",
      "{'createAt': DatetimeWithNanoseconds(2021, 3, 26, 15, 58, 16, 659000, tzinfo=<UTC>), 'PATIENT NAME': 'Abijith.s', 'DIAGNOSED BY': 'Dr.ABCD', 'BLOOD GROUP': 'O+ve', 'GENDER': 'MALE', 'AGE': '21', 'DISEASE': 'FEAVER'}\n",
      "{'BLOOD GROUP': ['O+ve', 'B+ve', 'O+ve', 'A+ve'], 'AGE': ['21', '21', '20', '20', '22'], 'DIAGNOSED BY': ['Dr.ABCD', 'Dr.DEF', 'Dr.GHI', 'Dr.JKL', 'Dr.XYZ'], 'DISEASE': ['FEAVER', 'Cough', 'headache', 'vomitting', 'fracture'], 'createAt': DatetimeWithNanoseconds(2021, 3, 26, 16, 4, 11, 427000, tzinfo=<UTC>), 'PATIENT NAME': ['Abijith.s', 'Brolin', 'Shibin Joshy', 'Sajish.R', 'Renil.C'], 'GENDER': ['MALE', 'MALE', 'MALE', 'MALE', 'MALE']}\n",
      "{'DIAGNOSED BY': ['Dr.ABCD', 'Dr.XYZ'], 'PATIENT NAME': ['Abijith.s', 'Brolin Rojitto John'], 'AGE': ['21', '20'], 'DISEASE': ['FEAVER', 'Cough'], 'BLOOD GROUP': ['O+ve', 'B+ve'], 'createAt': DatetimeWithNanoseconds(2021, 3, 26, 15, 27, 2, 367000, tzinfo=<UTC>), 'GENDER': ['MALE', 'MALE']}\n",
      "{'PATIENT NAME': ['Abijith.s', 'Brolin Rojitto John'], 'BLOOD GROUP': ['O+ve', 'B+ve'], 'DISEASE': ['FEAVER', 'Cough'], 'DIAGNOSED BY': ['Dr.ABCD', 'Dr.XYZ'], 'AGE': ['21', '20'], 'createAt': DatetimeWithNanoseconds(2021, 3, 26, 15, 29, 56, 607000, tzinfo=<UTC>), 'GENDER': ['MALE', 'MALE']}\n",
      "{'DIAGNOSED BY': 'Dr.ABCD', 'PATIENT NAME': 'Abijith.s', 'AGE': '21', 'GENDER': 'MALE', 'BLOOD GROUP': 'O+ve', 'DISEASE': 'FEAVER', 'createAt': DatetimeWithNanoseconds(2021, 3, 26, 15, 50, 38, 176000, tzinfo=<UTC>)}\n",
      "{'createAt': DatetimeWithNanoseconds(2021, 3, 26, 15, 21, 20, 659000, tzinfo=<UTC>), 'GENDER': 'MALE', 'BLOOD GROUP': 'O+ve', 'DIAGNOSED BY': 'Dr.ABCD', 'PATIENT NAME': 'Abijith.s', 'AGE': '21', 'DISEASE': 'FEAVER'}\n"
     ]
    }
   ],
   "source": [
    "all_dit = []\n",
    "for doc in docs:\n",
    "    print(doc.to_dict())\n",
    "    all_dit.append(doc.to_dict())"
   ]
  },
  {
   "cell_type": "code",
   "execution_count": 13,
   "metadata": {},
   "outputs": [
    {
     "data": {
      "text/plain": [
       "[{'createAt': DatetimeWithNanoseconds(2021, 3, 26, 15, 36, 40, 455000, tzinfo=<UTC>),\n",
       "  'AGE': ['21', '20'],\n",
       "  'DIAGNOSED BY': ['Dr.ABCD', 'Dr.XYZ'],\n",
       "  'GENDER': ['MALE', 'MALE'],\n",
       "  'PATIENT NAME': ['Abijith.s', 'Brolin Rojitto John'],\n",
       "  'BLOOD GROUP': ['O+ve', 'B+ve'],\n",
       "  'DISEASE': ['FEAVER', 'Cough']},\n",
       " {'createAt': DatetimeWithNanoseconds(2021, 3, 26, 15, 55, 7, 52000, tzinfo=<UTC>),\n",
       "  'PATIENT NAME': 'Abijith.s',\n",
       "  'GENDER': 'MALE',\n",
       "  'DISEASE': 'FEAVER',\n",
       "  'BLOOD GROUP': 'O+ve',\n",
       "  'DIAGNOSED BY': 'Dr.ABCD',\n",
       "  'AGE': '21'},\n",
       " {'createAt': DatetimeWithNanoseconds(2021, 3, 26, 15, 56, 31, 519000, tzinfo=<UTC>),\n",
       "  'GENDER': 'MALE',\n",
       "  'PATIENT NAME': 'Abijith.s',\n",
       "  'DIAGNOSED BY': 'Dr.ABCD',\n",
       "  'AGE': '21',\n",
       "  'BLOOD GROUP': 'O+ve',\n",
       "  'DISEASE': 'FEAVER'},\n",
       " {'createAt': DatetimeWithNanoseconds(2021, 3, 26, 15, 58, 16, 659000, tzinfo=<UTC>),\n",
       "  'PATIENT NAME': 'Abijith.s',\n",
       "  'DIAGNOSED BY': 'Dr.ABCD',\n",
       "  'BLOOD GROUP': 'O+ve',\n",
       "  'GENDER': 'MALE',\n",
       "  'AGE': '21',\n",
       "  'DISEASE': 'FEAVER'},\n",
       " {'BLOOD GROUP': ['O+ve', 'B+ve', 'O+ve', 'A+ve'],\n",
       "  'AGE': ['21', '21', '20', '20', '22'],\n",
       "  'DIAGNOSED BY': ['Dr.ABCD', 'Dr.DEF', 'Dr.GHI', 'Dr.JKL', 'Dr.XYZ'],\n",
       "  'DISEASE': ['FEAVER', 'Cough', 'headache', 'vomitting', 'fracture'],\n",
       "  'createAt': DatetimeWithNanoseconds(2021, 3, 26, 16, 4, 11, 427000, tzinfo=<UTC>),\n",
       "  'PATIENT NAME': ['Abijith.s',\n",
       "   'Brolin',\n",
       "   'Shibin Joshy',\n",
       "   'Sajish.R',\n",
       "   'Renil.C'],\n",
       "  'GENDER': ['MALE', 'MALE', 'MALE', 'MALE', 'MALE']},\n",
       " {'DIAGNOSED BY': ['Dr.ABCD', 'Dr.XYZ'],\n",
       "  'PATIENT NAME': ['Abijith.s', 'Brolin Rojitto John'],\n",
       "  'AGE': ['21', '20'],\n",
       "  'DISEASE': ['FEAVER', 'Cough'],\n",
       "  'BLOOD GROUP': ['O+ve', 'B+ve'],\n",
       "  'createAt': DatetimeWithNanoseconds(2021, 3, 26, 15, 27, 2, 367000, tzinfo=<UTC>),\n",
       "  'GENDER': ['MALE', 'MALE']},\n",
       " {'PATIENT NAME': ['Abijith.s', 'Brolin Rojitto John'],\n",
       "  'BLOOD GROUP': ['O+ve', 'B+ve'],\n",
       "  'DISEASE': ['FEAVER', 'Cough'],\n",
       "  'DIAGNOSED BY': ['Dr.ABCD', 'Dr.XYZ'],\n",
       "  'AGE': ['21', '20'],\n",
       "  'createAt': DatetimeWithNanoseconds(2021, 3, 26, 15, 29, 56, 607000, tzinfo=<UTC>),\n",
       "  'GENDER': ['MALE', 'MALE']},\n",
       " {'DIAGNOSED BY': 'Dr.ABCD',\n",
       "  'PATIENT NAME': 'Abijith.s',\n",
       "  'AGE': '21',\n",
       "  'GENDER': 'MALE',\n",
       "  'BLOOD GROUP': 'O+ve',\n",
       "  'DISEASE': 'FEAVER',\n",
       "  'createAt': DatetimeWithNanoseconds(2021, 3, 26, 15, 50, 38, 176000, tzinfo=<UTC>)},\n",
       " {'createAt': DatetimeWithNanoseconds(2021, 3, 26, 15, 21, 20, 659000, tzinfo=<UTC>),\n",
       "  'GENDER': 'MALE',\n",
       "  'BLOOD GROUP': 'O+ve',\n",
       "  'DIAGNOSED BY': 'Dr.ABCD',\n",
       "  'PATIENT NAME': 'Abijith.s',\n",
       "  'AGE': '21',\n",
       "  'DISEASE': 'FEAVER'}]"
      ]
     },
     "execution_count": 13,
     "metadata": {},
     "output_type": "execute_result"
    }
   ],
   "source": [
    "all_dit"
   ]
  },
  {
   "cell_type": "code",
   "execution_count": null,
   "metadata": {},
   "outputs": [],
   "source": []
  }
 ],
 "metadata": {
  "kernelspec": {
   "display_name": "Python 3",
   "language": "python",
   "name": "python3"
  },
  "language_info": {
   "codemirror_mode": {
    "name": "ipython",
    "version": 3
   },
   "file_extension": ".py",
   "mimetype": "text/x-python",
   "name": "python",
   "nbconvert_exporter": "python",
   "pygments_lexer": "ipython3",
   "version": "3.8.1"
  }
 },
 "nbformat": 4,
 "nbformat_minor": 4
}
