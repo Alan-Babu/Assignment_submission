{
 "cells": [
  {
   "cell_type": "code",
   "execution_count": null,
   "metadata": {},
   "outputs": [],
   "source": [
    "#pilot navigation system\n",
    "Altitude = int(input(\"Enter the Altitude of the plane: \"))\n",
    "if Altitude == 3000:\n",
    "    print(\"It is safe to land\")\n",
    "elif Altitude>=3000 and Altitude<=6000:\n",
    "    print(\"Allow the pilot to land after coming to the required altitiude\")\n",
    "else:\n",
    "    print(\"Not permitted to Land\")"
   ]
  }
 ],
 "metadata": {
  "kernelspec": {
   "display_name": "Python 3",
   "language": "python",
   "name": "python3"
  },
  "language_info": {
   "codemirror_mode": {
    "name": "ipython",
    "version": 3
   },
   "file_extension": ".py",
   "mimetype": "text/x-python",
   "name": "python",
   "nbconvert_exporter": "python",
   "pygments_lexer": "ipython3",
   "version": "3.8.1"
  }
 },
 "nbformat": 4,
 "nbformat_minor": 4
}
